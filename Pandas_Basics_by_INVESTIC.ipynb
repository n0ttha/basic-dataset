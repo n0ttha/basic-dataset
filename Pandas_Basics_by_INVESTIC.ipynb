{
  "nbformat": 4,
  "nbformat_minor": 0,
  "metadata": {
    "colab": {
      "provenance": [],
      "collapsed_sections": [
        "QxWk-lTu0_aC",
        "KWmXvTnf1LWG"
      ],
      "include_colab_link": true
    },
    "kernelspec": {
      "name": "python3",
      "display_name": "Python 3"
    }
  },
  "cells": [
    {
      "cell_type": "markdown",
      "metadata": {
        "id": "view-in-github",
        "colab_type": "text"
      },
      "source": [
        "<a href=\"https://colab.research.google.com/github/n0ttha/basic-dataset/blob/master/Pandas_Basics_by_INVESTIC.ipynb\" target=\"_parent\"><img src=\"https://colab.research.google.com/assets/colab-badge.svg\" alt=\"Open In Colab\"/></a>"
      ]
    },
    {
      "cell_type": "markdown",
      "source": [
        "#Investic"
      ],
      "metadata": {
        "id": "yHOu4JYf4GiU"
      }
    },
    {
      "cell_type": "markdown",
      "source": [
        "สำหรับท่านที่ยังไม่รู้จักเรา ขออนุญาตแนะนำตัว เราเป็นเพจให้ความรู้และการปรับใช้ Python เพื่อการลงทุน \n",
        "\n",
        "และคนที่กำลังสนใจเรื่องการทำระบบเทรด การใช้ AI มาช่วยลงทุน หรือบางคนที่มีพื้นเขียนโปรแกรมมาบ้าง อาจจะสนใจด้านนี้ "
      ],
      "metadata": {
        "id": "ox9lu_ns2zZs"
      }
    },
    {
      "cell_type": "markdown",
      "source": [
        "สำหรับใครที่สนใจคอร์ส Python เพื่อการลงทุนสามารถกดได้ที่ลิ้งนี้ : https://m.me/investicbkk?ref=colab_python"
      ],
      "metadata": {
        "id": "5_rBuVF816XB"
      }
    },
    {
      "cell_type": "code",
      "source": [],
      "metadata": {
        "id": "8z0gPv7GW5QA"
      },
      "execution_count": null,
      "outputs": []
    },
    {
      "cell_type": "code",
      "source": [],
      "metadata": {
        "id": "xAf_n1OrW5Nq"
      },
      "execution_count": null,
      "outputs": []
    },
    {
      "cell_type": "markdown",
      "metadata": {
        "id": "PE_ocX3w0ejg"
      },
      "source": [
        "# Basics Pandas\n"
      ]
    },
    {
      "cell_type": "markdown",
      "metadata": {
        "id": "QxWk-lTu0_aC"
      },
      "source": [
        "## import pandas"
      ]
    },
    {
      "cell_type": "code",
      "metadata": {
        "id": "dgsaAhES1E5C"
      },
      "source": [
        "import pandas as pd"
      ],
      "execution_count": null,
      "outputs": []
    },
    {
      "cell_type": "markdown",
      "metadata": {
        "id": "KWmXvTnf1LWG"
      },
      "source": [
        "# Pandas Data Structures"
      ]
    },
    {
      "cell_type": "markdown",
      "metadata": {
        "id": "DQWqlfHI1TT1"
      },
      "source": [
        "## Series"
      ]
    },
    {
      "cell_type": "code",
      "metadata": {
        "id": "5p2RPoMLvogI"
      },
      "source": [
        "s = pd.Series([3, -5, 7, 4], index=['a','b','c','d'])"
      ],
      "execution_count": null,
      "outputs": []
    },
    {
      "cell_type": "code",
      "metadata": {
        "id": "9cEN4CvYwQX8"
      },
      "source": [
        "s"
      ],
      "execution_count": null,
      "outputs": []
    },
    {
      "cell_type": "markdown",
      "metadata": {
        "id": "WFhEOIgs1aob"
      },
      "source": [
        "## DataFrame"
      ]
    },
    {
      "cell_type": "code",
      "metadata": {
        "id": "iAudgvmGwHtd"
      },
      "source": [
        "data = {'Country':['Belgium','India','Brazil'],'Capital':['Brussels', 'New Delhi', 'Brasilia'], 'Population': [11190846, 1303171035, 207847520]}"
      ],
      "execution_count": null,
      "outputs": []
    },
    {
      "cell_type": "code",
      "metadata": {
        "id": "3iIleg0iwyaL"
      },
      "source": [
        "data"
      ],
      "execution_count": null,
      "outputs": []
    },
    {
      "cell_type": "code",
      "metadata": {
        "id": "hxexYAV8w0K0"
      },
      "source": [
        "df = pd.DataFrame(data, columns={'Country', 'Capital', 'Population'})"
      ],
      "execution_count": null,
      "outputs": []
    },
    {
      "cell_type": "code",
      "metadata": {
        "id": "Dgf0kHP8xE1l"
      },
      "source": [
        "df"
      ],
      "execution_count": null,
      "outputs": []
    },
    {
      "cell_type": "markdown",
      "metadata": {
        "id": "Ol1KZykA1mj1"
      },
      "source": [
        "## I/O"
      ]
    },
    {
      "cell_type": "markdown",
      "metadata": {
        "id": "G5OEEo901phP"
      },
      "source": [
        "## Read and Write to CSV"
      ]
    },
    {
      "cell_type": "code",
      "metadata": {
        "id": "pXwt0hLtxcG2"
      },
      "source": [
        "pd.read_csv('file.csv', header=None, nrows=5)"
      ],
      "execution_count": null,
      "outputs": []
    },
    {
      "cell_type": "code",
      "metadata": {
        "id": "NRPionOVxqSY"
      },
      "source": [
        "df.to_csv('myDataFrame.csv')"
      ],
      "execution_count": null,
      "outputs": []
    },
    {
      "cell_type": "markdown",
      "metadata": {
        "id": "eusQFvaI1wER"
      },
      "source": [
        "## Read & Write to Excel"
      ]
    },
    {
      "cell_type": "code",
      "metadata": {
        "id": "NxzYCcvpxzcH"
      },
      "source": [
        "pd.read_excel('file.xlsx')"
      ],
      "execution_count": null,
      "outputs": []
    },
    {
      "cell_type": "code",
      "metadata": {
        "id": "zrcue2uIx6Z2"
      },
      "source": [
        "df.to_excel('dir/myDataFrame.xlsx', sheet_name='Sheet1')"
      ],
      "execution_count": null,
      "outputs": []
    },
    {
      "cell_type": "code",
      "metadata": {
        "id": "F7YMP-G_yFzA"
      },
      "source": [
        "# Read Multi sheets from the same file"
      ],
      "execution_count": null,
      "outputs": []
    },
    {
      "cell_type": "code",
      "metadata": {
        "id": "taRQehTQyJVY"
      },
      "source": [
        "xlsx = pd.ExcelFile('file.xls')\n",
        "df = pd.read_excel(xlsx, 'Sheet1')"
      ],
      "execution_count": null,
      "outputs": []
    },
    {
      "cell_type": "markdown",
      "metadata": {
        "id": "_frp8Oco2C3H"
      },
      "source": [
        "## Read and Write to SQL Query or Database Table"
      ]
    },
    {
      "cell_type": "code",
      "metadata": {
        "id": "gvh2j72X1RUa"
      },
      "source": [
        "from sqlalchemy import create_engine\n",
        "engine = create_enigne('sqlite:///:memory:')\n",
        "pd.raed_sql(\"SELECT * FROM my_table;\", engine)\n",
        "pd.read_sql_table('my_table', engine)\n",
        "pd.read_sql_query(\"SELECT * FROM my_table;\", engine)"
      ],
      "execution_count": null,
      "outputs": []
    },
    {
      "cell_type": "code",
      "metadata": {
        "id": "IItP-P3e2JQJ"
      },
      "source": [
        "df.to_sql('myDf', engine)"
      ],
      "execution_count": null,
      "outputs": []
    },
    {
      "cell_type": "markdown",
      "metadata": {
        "id": "jeMI_54R2Mtk"
      },
      "source": [
        "## Ask for Help"
      ]
    },
    {
      "cell_type": "code",
      "metadata": {
        "id": "yK395BxbyT7Z"
      },
      "source": [
        "help(pd.Series.loc)"
      ],
      "execution_count": null,
      "outputs": []
    },
    {
      "cell_type": "markdown",
      "metadata": {
        "id": "ijixW7pJ2X1B"
      },
      "source": [
        "## Selecting"
      ]
    },
    {
      "cell_type": "markdown",
      "metadata": {
        "id": "7C1p12Ne2jiM"
      },
      "source": [
        "### Getting"
      ]
    },
    {
      "cell_type": "code",
      "metadata": {
        "id": "z8hXuJ14yiLm"
      },
      "source": [
        "s['b']"
      ],
      "execution_count": null,
      "outputs": []
    },
    {
      "cell_type": "code",
      "metadata": {
        "id": "Azdvf51GypjF"
      },
      "source": [
        "df[1:]"
      ],
      "execution_count": null,
      "outputs": []
    },
    {
      "cell_type": "markdown",
      "metadata": {
        "id": "z3DbjduX2sfK"
      },
      "source": [
        "### Selecting, Boolean Indexing & Setting"
      ]
    },
    {
      "cell_type": "markdown",
      "metadata": {
        "id": "u2hSmRYV275a"
      },
      "source": [
        "#### By Position"
      ]
    },
    {
      "cell_type": "code",
      "metadata": {
        "id": "Z_TDFKhbzdyb"
      },
      "source": [
        "df.iloc[[0],[0]]"
      ],
      "execution_count": null,
      "outputs": []
    },
    {
      "cell_type": "code",
      "metadata": {
        "id": "8HA_X9GLzjSS"
      },
      "source": [
        "df.loc([0],[0]) "
      ],
      "execution_count": null,
      "outputs": []
    },
    {
      "cell_type": "markdown",
      "metadata": {
        "id": "CNHHHuB420X1"
      },
      "source": [
        "#### ByLabel/Position"
      ]
    },
    {
      "cell_type": "code",
      "metadata": {
        "id": "qqfch4_qzpBp"
      },
      "source": [
        "df.ix[2]"
      ],
      "execution_count": null,
      "outputs": []
    },
    {
      "cell_type": "markdown",
      "metadata": {
        "id": "OCNTanlm3JFT"
      },
      "source": [
        "#### Boolean Indexing"
      ]
    },
    {
      "cell_type": "code",
      "metadata": {
        "id": "KgaeIzfJ0MF1"
      },
      "source": [
        "s[~(s > 1)]"
      ],
      "execution_count": null,
      "outputs": []
    },
    {
      "cell_type": "code",
      "metadata": {
        "id": "nzQvsQgC0tJ3"
      },
      "source": [
        "s[(s < -1) | (s > 2)]"
      ],
      "execution_count": null,
      "outputs": []
    },
    {
      "cell_type": "code",
      "metadata": {
        "id": "jHRq7fUo019j"
      },
      "source": [
        "df[df['Population']>1200000000]"
      ],
      "execution_count": null,
      "outputs": []
    },
    {
      "cell_type": "markdown",
      "metadata": {
        "id": "Q9mh-XEo3RA0"
      },
      "source": [
        "#### Setting"
      ]
    },
    {
      "cell_type": "code",
      "metadata": {
        "id": "pGNoIvKu0_MA"
      },
      "source": [
        "s['a'] = 6"
      ],
      "execution_count": null,
      "outputs": []
    },
    {
      "cell_type": "code",
      "metadata": {
        "id": "YcqFB1Pr1GsT"
      },
      "source": [
        "s"
      ],
      "execution_count": null,
      "outputs": []
    },
    {
      "cell_type": "markdown",
      "metadata": {
        "id": "t26hO8zE3jvE"
      },
      "source": [
        "## Dropping"
      ]
    },
    {
      "cell_type": "code",
      "metadata": {
        "id": "m4nOdTB51HlQ"
      },
      "source": [
        "s.drop(['a', 'c'])"
      ],
      "execution_count": null,
      "outputs": []
    },
    {
      "cell_type": "code",
      "metadata": {
        "id": "Y60bTRbE2nkb"
      },
      "source": [
        "df.drop('Country', axis=1)"
      ],
      "execution_count": null,
      "outputs": []
    },
    {
      "cell_type": "markdown",
      "metadata": {
        "id": "0V2w8YsJ3n7u"
      },
      "source": [
        "## Sort & Rank"
      ]
    },
    {
      "cell_type": "code",
      "metadata": {
        "id": "3XUyE73J2tG3"
      },
      "source": [
        "df.sort_index()"
      ],
      "execution_count": null,
      "outputs": []
    },
    {
      "cell_type": "code",
      "metadata": {
        "id": "AssbbWfy254Y"
      },
      "source": [
        "df.sort_values(by='Country')"
      ],
      "execution_count": null,
      "outputs": []
    },
    {
      "cell_type": "code",
      "metadata": {
        "id": "f61PX5oa3DD3"
      },
      "source": [
        "df.rank()"
      ],
      "execution_count": null,
      "outputs": []
    },
    {
      "cell_type": "markdown",
      "metadata": {
        "id": "NqqCSuY43ws8"
      },
      "source": [
        "## Retrieving Series / DataFrame Information"
      ]
    },
    {
      "cell_type": "markdown",
      "metadata": {
        "id": "e1jxSyY5303m"
      },
      "source": [
        "### Basic Information"
      ]
    },
    {
      "cell_type": "code",
      "metadata": {
        "id": "bDfr6YQX3N0Q"
      },
      "source": [
        "df.shape"
      ],
      "execution_count": null,
      "outputs": []
    },
    {
      "cell_type": "code",
      "metadata": {
        "id": "aDBgjNTE3RjN"
      },
      "source": [
        "df.index"
      ],
      "execution_count": null,
      "outputs": []
    },
    {
      "cell_type": "code",
      "metadata": {
        "id": "6MrkXjKc3Suw"
      },
      "source": [
        "df.columns"
      ],
      "execution_count": null,
      "outputs": []
    },
    {
      "cell_type": "code",
      "metadata": {
        "id": "GHebDd7z3UOQ"
      },
      "source": [
        "df.info()"
      ],
      "execution_count": null,
      "outputs": []
    },
    {
      "cell_type": "code",
      "metadata": {
        "id": "yGrMqKka3WY6"
      },
      "source": [
        "df.count()"
      ],
      "execution_count": null,
      "outputs": []
    },
    {
      "cell_type": "markdown",
      "metadata": {
        "id": "GDRUog5m3-TU"
      },
      "source": [
        "### Summary"
      ]
    },
    {
      "cell_type": "code",
      "metadata": {
        "id": "YbPFgwyZ3X-M"
      },
      "source": [
        "df.sum()"
      ],
      "execution_count": null,
      "outputs": []
    },
    {
      "cell_type": "code",
      "metadata": {
        "id": "O2BIlXmO3d9W"
      },
      "source": [
        "df.cumsum()"
      ],
      "execution_count": null,
      "outputs": []
    },
    {
      "cell_type": "code",
      "metadata": {
        "id": "HoRizpcm3iS0"
      },
      "source": [
        "df.min()/df.max()"
      ],
      "execution_count": null,
      "outputs": []
    },
    {
      "cell_type": "code",
      "metadata": {
        "id": "EXwhCQSF3sWJ"
      },
      "source": [
        "df.idxmin()/df.idxmax()"
      ],
      "execution_count": null,
      "outputs": []
    },
    {
      "cell_type": "code",
      "metadata": {
        "id": "gChKQun_39md"
      },
      "source": [
        "df.describe()"
      ],
      "execution_count": null,
      "outputs": []
    },
    {
      "cell_type": "code",
      "metadata": {
        "id": "G-8xgYe64BgX"
      },
      "source": [
        "df.mean()"
      ],
      "execution_count": null,
      "outputs": []
    },
    {
      "cell_type": "code",
      "metadata": {
        "id": "Iapb7Led4D_N"
      },
      "source": [
        "df.median()"
      ],
      "execution_count": null,
      "outputs": []
    },
    {
      "cell_type": "markdown",
      "metadata": {
        "id": "3kjpHMnd4ILb"
      },
      "source": []
    },
    {
      "cell_type": "markdown",
      "metadata": {
        "id": "JvRL8D6E4GfE"
      },
      "source": [
        "## Applying Functions"
      ]
    },
    {
      "cell_type": "code",
      "metadata": {
        "id": "3hq7esip4F-j"
      },
      "source": [
        "f = lambda x: x*2"
      ],
      "execution_count": null,
      "outputs": []
    },
    {
      "cell_type": "code",
      "metadata": {
        "id": "yM2r1Krm4Q2T"
      },
      "source": [
        "df.apply(f)"
      ],
      "execution_count": null,
      "outputs": []
    },
    {
      "cell_type": "code",
      "metadata": {
        "id": "_UKllXoz4TJL"
      },
      "source": [
        "df.applymap(f)"
      ],
      "execution_count": null,
      "outputs": []
    },
    {
      "cell_type": "markdown",
      "metadata": {
        "id": "R8y9Ld3F4OIo"
      },
      "source": [
        "## Data Alignment"
      ]
    },
    {
      "cell_type": "markdown",
      "metadata": {
        "id": "LdVPqh9c4SXu"
      },
      "source": [
        "### internal Data Alignment"
      ]
    },
    {
      "cell_type": "code",
      "metadata": {
        "id": "trSa5r-T4cNr"
      },
      "source": [
        "s3 = pd.Series([7, -2, 3], index=['a', 'c', 'd'])"
      ],
      "execution_count": null,
      "outputs": []
    },
    {
      "cell_type": "code",
      "metadata": {
        "id": "s_Zg_HLC4xEO"
      },
      "source": [
        "s+s3"
      ],
      "execution_count": null,
      "outputs": []
    },
    {
      "cell_type": "code",
      "metadata": {
        "id": "AXh-a9cq4yZ7"
      },
      "source": [
        "s.add(s3, fill_value=0)"
      ],
      "execution_count": null,
      "outputs": []
    },
    {
      "cell_type": "code",
      "metadata": {
        "id": "duCRHwDI46Yw"
      },
      "source": [
        "s.sub(s3, fill_value=2)"
      ],
      "execution_count": null,
      "outputs": []
    },
    {
      "cell_type": "code",
      "metadata": {
        "id": "xqkathuM4_K6"
      },
      "source": [
        "s.div(s3, fill_value=4)"
      ],
      "execution_count": null,
      "outputs": []
    },
    {
      "cell_type": "code",
      "metadata": {
        "id": "nXsx6G2_5EU0"
      },
      "source": [
        "s.mul(s3, fill_value=3)"
      ],
      "execution_count": null,
      "outputs": []
    }
  ]
}