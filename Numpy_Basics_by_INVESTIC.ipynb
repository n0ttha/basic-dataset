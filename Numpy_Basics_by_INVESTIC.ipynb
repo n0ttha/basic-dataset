{
  "nbformat": 4,
  "nbformat_minor": 0,
  "metadata": {
    "colab": {
      "provenance": [],
      "collapsed_sections": [],
      "include_colab_link": true
    },
    "kernelspec": {
      "name": "python3",
      "display_name": "Python 3"
    }
  },
  "cells": [
    {
      "cell_type": "markdown",
      "metadata": {
        "id": "view-in-github",
        "colab_type": "text"
      },
      "source": [
        "<a href=\"https://colab.research.google.com/github/n0ttha/basic-dataset/blob/master/Numpy_Basics_by_INVESTIC.ipynb\" target=\"_parent\"><img src=\"https://colab.research.google.com/assets/colab-badge.svg\" alt=\"Open In Colab\"/></a>"
      ]
    },
    {
      "cell_type": "markdown",
      "source": [
        "Investic"
      ],
      "metadata": {
        "id": "KIT1G9V7XWWn"
      }
    },
    {
      "cell_type": "markdown",
      "source": [
        "สำหรับท่านที่ยังไม่รู้จักเรา ขออนุญาตแนะนำตัว เราเป็นเพจให้ความรู้และการปรับใช้ Python เพื่อการลงทุน \n",
        "\n",
        "และคนที่กำลังสนใจเรื่องการทำระบบเทรด การใช้ AI มาช่วยลงทุน หรือบางคนที่มีพื้นเขียนโปรแกรมมาบ้าง อาจจะสนใจด้านนี้ และในปัจจุบันมีเนื้อหาสอนใช้ Python ในระดับพื้นฐานเพิ่มเติม"
      ],
      "metadata": {
        "id": "T_eOcXEGXUnN"
      }
    },
    {
      "cell_type": "markdown",
      "source": [
        "สำหรับใครที่สนใจคอร์ส Python เพื่อการลงทุนสามารถกดได้ที่ลิ้งนี้ : https://m.me/investicbkk?ref=colab_python"
      ],
      "metadata": {
        "id": "__C_LPPjXZdF"
      }
    },
    {
      "cell_type": "markdown",
      "metadata": {
        "id": "9Vw48bCHrhld"
      },
      "source": [
        "# import numpy"
      ]
    },
    {
      "cell_type": "code",
      "metadata": {
        "id": "-gUuvUJA61p7"
      },
      "source": [
        "import numpy as np"
      ],
      "execution_count": null,
      "outputs": []
    },
    {
      "cell_type": "code",
      "metadata": {
        "id": "ojEgMVFg5sKc"
      },
      "source": [
        "# Creating Arrays\n",
        "a = np.array([1,2,3])\n",
        "b = np.array([(1.5,2,3), (4,5,6)], dtype = float)\n",
        "c = np.array([[(1.5,2,3), (4,5,6)], [(3,2,1), (4,5,6)]], dtype = float)"
      ],
      "execution_count": null,
      "outputs": []
    },
    {
      "cell_type": "code",
      "metadata": {
        "id": "PAOLUXvm7maB"
      },
      "source": [
        "# Initial Placeholders"
      ],
      "execution_count": null,
      "outputs": []
    },
    {
      "cell_type": "code",
      "metadata": {
        "id": "jdFZMWYs66ao"
      },
      "source": [
        "np.zeros((3,4))"
      ],
      "execution_count": null,
      "outputs": []
    },
    {
      "cell_type": "code",
      "metadata": {
        "id": "6cQVIGx17CVI"
      },
      "source": [
        "np.ones((2,3,4), dtype = np.int16)"
      ],
      "execution_count": null,
      "outputs": []
    },
    {
      "cell_type": "code",
      "metadata": {
        "id": "mL1egWWP7KdE"
      },
      "source": [
        "d = np.arange(10,25,5)\n",
        "\n",
        "np.linspace(0,2,9)"
      ],
      "execution_count": null,
      "outputs": []
    },
    {
      "cell_type": "code",
      "metadata": {
        "id": "aP6Sv2WZ7UHM"
      },
      "source": [
        "e = np.full((2,2), 7)"
      ],
      "execution_count": null,
      "outputs": []
    },
    {
      "cell_type": "code",
      "metadata": {
        "id": "m8dAFaGE7X-8"
      },
      "source": [
        "f = np.eye(2)"
      ],
      "execution_count": null,
      "outputs": []
    },
    {
      "cell_type": "code",
      "metadata": {
        "id": "kIuLTgoi7Zs5"
      },
      "source": [
        "np.random.random((2,2))"
      ],
      "execution_count": null,
      "outputs": []
    },
    {
      "cell_type": "code",
      "metadata": {
        "id": "u7MQKT1U7f_T"
      },
      "source": [
        "np.empty((3,2))"
      ],
      "execution_count": null,
      "outputs": []
    },
    {
      "cell_type": "code",
      "metadata": {
        "id": "rVtMSnmN7ily"
      },
      "source": [
        "# I/O"
      ],
      "execution_count": null,
      "outputs": []
    },
    {
      "cell_type": "code",
      "metadata": {
        "id": "pSgpsM_e7tf_",
        "colab": {
          "base_uri": "https://localhost:8080/"
        },
        "outputId": "23fe4f8f-be3d-4c1d-da6d-e10e098ece2d"
      },
      "source": [
        "# Saving & Loading On Disk\n",
        "np.save('my_array', a)\n",
        "np.savez('array.npz', a, b)\n",
        "np.load('my_array.npy')"
      ],
      "execution_count": null,
      "outputs": [
        {
          "output_type": "execute_result",
          "data": {
            "text/plain": [
              "array([1, 2, 3])"
            ]
          },
          "metadata": {
            "tags": []
          },
          "execution_count": 13
        }
      ]
    },
    {
      "cell_type": "code",
      "metadata": {
        "id": "q8foHAPN7xCs"
      },
      "source": [
        "# Saving & Loading Text Files\n",
        "np.loadtxt(\"myfile.txt\")\n",
        "np.genfromtxt(\"my_file.csv\", delimiter=',')\n",
        "np.savetxt(\"myarray.txt\", a, delimiter=\" \")"
      ],
      "execution_count": null,
      "outputs": []
    },
    {
      "cell_type": "code",
      "metadata": {
        "id": "2waigZwG9nnP"
      },
      "source": [
        "np.int64\n",
        "np.float32\n",
        "np.complex\n",
        "np.bool\n",
        "np.object\n",
        "np.string_\n",
        "np.unicode_ "
      ],
      "execution_count": null,
      "outputs": []
    },
    {
      "cell_type": "code",
      "metadata": {
        "id": "ByzBAKvaFTTo"
      },
      "source": [
        "# Inspecting Your Array\n",
        "a.shape\n",
        "len(a)\n",
        "b.ndim\n",
        "e.size\n",
        "b.dtype\n",
        "b.dtype.name\n",
        "b.astype(int)"
      ],
      "execution_count": null,
      "outputs": []
    },
    {
      "cell_type": "code",
      "metadata": {
        "id": "pS7pabHwFscX"
      },
      "source": [
        "# Asking For Help\n",
        "np.info(np.ndarray.dtype)"
      ],
      "execution_count": null,
      "outputs": []
    },
    {
      "cell_type": "code",
      "metadata": {
        "id": "-Q5xjuiKHDvv"
      },
      "source": [
        "# Array Mathematics"
      ],
      "execution_count": null,
      "outputs": []
    },
    {
      "cell_type": "code",
      "metadata": {
        "id": "rqrnW9EiHHIg"
      },
      "source": [
        "# Arithmetic Operations\n",
        "g = a - b "
      ],
      "execution_count": null,
      "outputs": []
    },
    {
      "cell_type": "code",
      "metadata": {
        "id": "sCPtmL6YHPay"
      },
      "source": [
        "np.subtract(a,b)\n",
        "b + a"
      ],
      "execution_count": null,
      "outputs": []
    },
    {
      "cell_type": "code",
      "metadata": {
        "id": "G6Lgmna-Hskx"
      },
      "source": [
        "np.add(b,a)\n",
        "a/b"
      ],
      "execution_count": null,
      "outputs": []
    },
    {
      "cell_type": "code",
      "metadata": {
        "id": "MlHqXsL4ICvc"
      },
      "source": [
        "np.divide(a,b)\n",
        "a * b"
      ],
      "execution_count": null,
      "outputs": []
    },
    {
      "cell_type": "code",
      "metadata": {
        "id": "Xkvdfew3IMDA"
      },
      "source": [
        "np.multiply(a,b)\n",
        "np.exp(b)\n",
        "np.sqrt(b)\n",
        "np.sin(a)\n",
        "np.cos(b)\n",
        "np.log(a)\n",
        "e.dot(f)"
      ],
      "execution_count": null,
      "outputs": []
    },
    {
      "cell_type": "code",
      "metadata": {
        "id": "3_1L3qsBIdle"
      },
      "source": [
        "# Comparison\n",
        "a == b"
      ],
      "execution_count": null,
      "outputs": []
    },
    {
      "cell_type": "code",
      "metadata": {
        "id": "aZZ_2HAKIlsm",
        "colab": {
          "base_uri": "https://localhost:8080/"
        },
        "outputId": "3cbaf7ab-f2cd-44fe-aa0f-63b2a5c377ac"
      },
      "source": [
        "a < 2"
      ],
      "execution_count": null,
      "outputs": [
        {
          "output_type": "execute_result",
          "data": {
            "text/plain": [
              "array([ True, False, False])"
            ]
          },
          "metadata": {
            "tags": []
          },
          "execution_count": 21
        }
      ]
    },
    {
      "cell_type": "code",
      "metadata": {
        "id": "-pXx87cwImwc"
      },
      "source": [
        "np.array_equal(a, b)"
      ],
      "execution_count": null,
      "outputs": []
    },
    {
      "cell_type": "code",
      "metadata": {
        "id": "S5dpnJlXIqUX"
      },
      "source": [
        "# Aggregate Functions\n",
        "a.sum()\n",
        "a.min()\n",
        "b.max(axis=0)\n",
        "b.cumsum(axis=1)\n",
        "a.mean()\n",
        "b.median()\n",
        "a.corrcoef()\n",
        "np.std(b)"
      ],
      "execution_count": null,
      "outputs": []
    },
    {
      "cell_type": "code",
      "metadata": {
        "id": "zITGsRBGJAg1"
      },
      "source": [
        "# Copying Arrays\n",
        "h = a.view()\n",
        "np.copy(a)\n",
        "h = a.copy()"
      ],
      "execution_count": null,
      "outputs": []
    },
    {
      "cell_type": "code",
      "metadata": {
        "id": "fCXW-tqfJGez"
      },
      "source": [
        "# Sorting Arrays\n",
        "a.sort()\n",
        "c.sort(axis=0)"
      ],
      "execution_count": null,
      "outputs": []
    },
    {
      "cell_type": "code",
      "metadata": {
        "id": "GIjFWrRsJjTK"
      },
      "source": [
        "# Subsetting, Slicing, Indexing"
      ],
      "execution_count": null,
      "outputs": []
    },
    {
      "cell_type": "code",
      "metadata": {
        "id": "uiwySqovJUTh"
      },
      "source": [
        "# Subsetting\n",
        "a[2]"
      ],
      "execution_count": null,
      "outputs": []
    },
    {
      "cell_type": "code",
      "metadata": {
        "id": "omLB1t-uJaWr"
      },
      "source": [
        "b[1,2]"
      ],
      "execution_count": null,
      "outputs": []
    },
    {
      "cell_type": "code",
      "metadata": {
        "id": "Su_eniQBJ0br"
      },
      "source": [
        "# Slicing\n",
        "a[0:2]"
      ],
      "execution_count": null,
      "outputs": []
    },
    {
      "cell_type": "code",
      "metadata": {
        "id": "uBo76zQnJ4TF"
      },
      "source": [
        "b[0:2,1]"
      ],
      "execution_count": null,
      "outputs": []
    },
    {
      "cell_type": "code",
      "metadata": {
        "id": "_eqpt8EqJ8hj"
      },
      "source": [
        "b[:1]"
      ],
      "execution_count": null,
      "outputs": []
    },
    {
      "cell_type": "code",
      "metadata": {
        "id": "mu-kDaPNKBlF"
      },
      "source": [
        "c[1,...]"
      ],
      "execution_count": null,
      "outputs": []
    },
    {
      "cell_type": "code",
      "metadata": {
        "id": "mM6syLm1KECR"
      },
      "source": [
        "a[ : :-1]"
      ],
      "execution_count": null,
      "outputs": []
    },
    {
      "cell_type": "code",
      "metadata": {
        "id": "VRJhntHiKHcd"
      },
      "source": [
        "# Boolean Indexing\n",
        "a[a<2]"
      ],
      "execution_count": null,
      "outputs": []
    },
    {
      "cell_type": "code",
      "metadata": {
        "id": "dmXUZiPiKRdC"
      },
      "source": [
        "# Fancy Indexing\n",
        "b[[1, 0, 1, 0], [0, 1, 2, 0]]"
      ],
      "execution_count": null,
      "outputs": []
    },
    {
      "cell_type": "code",
      "metadata": {
        "id": "DeaBCw9XKbJR"
      },
      "source": [
        "b[[1, 0, 1, 0]][:, [0, 1, 2, 0]]"
      ],
      "execution_count": null,
      "outputs": []
    },
    {
      "cell_type": "code",
      "metadata": {
        "id": "GLEq8P_TKoaB"
      },
      "source": [
        "# Array Manipulation"
      ],
      "execution_count": null,
      "outputs": []
    },
    {
      "cell_type": "code",
      "metadata": {
        "id": "at5QYjUhK0tU"
      },
      "source": [
        "# Transposing Array\n",
        "i = np.transpose(b)\n",
        "i.T"
      ],
      "execution_count": null,
      "outputs": []
    },
    {
      "cell_type": "code",
      "metadata": {
        "id": "JRVfw2CnK3Y2"
      },
      "source": [
        "# Changing Array Shape\n",
        "b.ravel()\n",
        "g.reshape(3,-2)"
      ],
      "execution_count": null,
      "outputs": []
    },
    {
      "cell_type": "code",
      "metadata": {
        "id": "SZrpB4CfLHgt"
      },
      "source": [
        "# Adding/Removing Elements\n",
        "h.resize((2,6))\n",
        "np.appen(h,g)\n",
        "np.insert(a, 1, 5)\n",
        "np.delete(a, [1])"
      ],
      "execution_count": null,
      "outputs": []
    },
    {
      "cell_type": "code",
      "metadata": {
        "id": "LkW0WsIXLa-F"
      },
      "source": [
        "# Combining Arrays\n",
        "np.concatenate((a,d), axis=0)"
      ],
      "execution_count": null,
      "outputs": []
    },
    {
      "cell_type": "code",
      "metadata": {
        "id": "IrsCGjVGLmxj"
      },
      "source": [
        "np.vstack((a,b))"
      ],
      "execution_count": null,
      "outputs": []
    },
    {
      "cell_type": "code",
      "metadata": {
        "id": "I9D3blrgLtK9"
      },
      "source": [
        "np.r_[e,f]\n",
        "np.hstack((e,f))"
      ],
      "execution_count": null,
      "outputs": []
    },
    {
      "cell_type": "code",
      "metadata": {
        "id": "te43rHJ3L0lt"
      },
      "source": [
        "np.column_stack((a,d))"
      ],
      "execution_count": null,
      "outputs": []
    },
    {
      "cell_type": "code",
      "metadata": {
        "id": "VFZo6K4_NaBZ"
      },
      "source": [
        "np.c_[a,d]"
      ],
      "execution_count": null,
      "outputs": []
    },
    {
      "cell_type": "code",
      "metadata": {
        "id": "5YcJbMgsNe5z"
      },
      "source": [
        "# Splitting Arrays\n",
        "np.hsplit(a,3)"
      ],
      "execution_count": null,
      "outputs": []
    },
    {
      "cell_type": "code",
      "metadata": {
        "id": "wlY3Sv0xNfyM"
      },
      "source": [
        "np.vsplit(c,2)"
      ],
      "execution_count": null,
      "outputs": []
    }
  ]
}